{
 "cells": [
  {
   "cell_type": "markdown",
   "metadata": {},
   "source": [
    "## Questions\n",
    "1. Given a list and an item, find the number of times the item appears in the list."
   ]
  },
  {
   "cell_type": "code",
   "execution_count": 20,
   "metadata": {},
   "outputs": [],
   "source": [
    "def numb_of_times(mylist, item):\n",
    "    my_dict = {}\n",
    "    for i in mylist:\n",
    "        my_dict[i] = my_dict.get(i,0)+1\n",
    "    return my_dict[item] \n",
    "\n",
    "\n",
    "#check solution\n",
    "numb_of_times([1,4,2,4,4,5,4],4)"
   ]
  },
  {
   "cell_type": "markdown",
   "metadata": {},
   "source": [
    "2. Given a list of words, print the largest word."
   ]
  },
  {
   "cell_type": "code",
   "execution_count": 22,
   "metadata": {},
   "outputs": [],
   "source": [
    "words = ['boy', 'girl', 'industry','university']\n",
    "other =['This', 'is','another', 'sentence']\n",
    "def longest(list_of_words):\n",
    "    longest = 'i'\n",
    "    for word in words:\n",
    "        if len(word)> len(longest):\n",
    "            longest = word\n",
    "    return longest\n",
    "\n",
    "#check solution\n",
    "longest(words) "
   ]
  },
  {
   "cell_type": "markdown",
   "metadata": {},
   "source": [
    "3. given a list of characters return the list with all vowels replaced by (*)"
   ]
  },
  {
   "cell_type": "code",
   "execution_count": 34,
   "metadata": {},
   "outputs": [
    {
     "data": {
      "text/plain": [
       "['*', 'd', '*', 'n', 't', 'k', 'n', '*', 'w']"
      ]
     },
     "execution_count": 34,
     "metadata": {},
     "output_type": "execute_result"
    }
   ],
   "source": [
    "def vowel(my_list):\n",
    "    vows = ['a','e','i','o','u']\n",
    "    return ['*' if letter in vows else letter for letter in my_list]\n",
    "\n",
    "#Test it\n",
    "vowel(['i','d','o','n','t','k','n','o','w'])"
   ]
  },
  {
   "cell_type": "markdown",
   "metadata": {},
   "source": [
    "4. Given a word return true if the word is a palindrome"
   ]
  },
  {
   "cell_type": "code",
   "execution_count": 45,
   "metadata": {},
   "outputs": [],
   "source": [
    "def is_palindrome(word):\n",
    "    print(word)\n",
    "    help_number = len(word)//2\n",
    "    helper2 = help_number + 1\n",
    "    print(word[0:help_number])\n",
    "    print(word[-1:-helper2])\n",
    "     \n",
    "    return word[0:help_number]== word[-1:-helper2]"
   ]
  },
  {
   "cell_type": "code",
   "execution_count": 47,
   "metadata": {},
   "outputs": [
    {
     "data": {
      "text/plain": [
       "False"
      ]
     },
     "execution_count": 47,
     "metadata": {},
     "output_type": "execute_result"
    }
   ],
   "source": [
    "is_palindrome('dad')"
   ]
  },
  {
   "cell_type": "code",
   "execution_count": 48,
   "metadata": {},
   "outputs": [
    {
     "data": {
      "text/plain": [
       "False"
      ]
     },
     "execution_count": 48,
     "metadata": {},
     "output_type": "execute_result"
    }
   ],
   "source": [
    "is_palindrome('mum')"
   ]
  },
  {
   "cell_type": "code",
   "execution_count": null,
   "metadata": {},
   "outputs": [],
   "source": [
    "len()"
   ]
  }
 ],
 "metadata": {
  "kernelspec": {
   "display_name": "Python 3",
   "language": "python",
   "name": "python3"
  },
  "language_info": {
   "codemirror_mode": {
    "name": "ipython",
    "version": 3
   },
   "file_extension": ".py",
   "mimetype": "text/x-python",
   "name": "python",
   "nbconvert_exporter": "python",
   "pygments_lexer": "ipython3",
   "version": "3.6.5"
  }
 },
 "nbformat": 4,
 "nbformat_minor": 2
}
