{
 "cells": [
  {
   "cell_type": "markdown",
   "metadata": {},
   "source": [
    "## Mock Questions\n",
    "\n",
    "* Determine if a string is a palindrome\n",
    "* Find the non-duplicate character in a string\n",
    "* Given a string S and a list of strings, find all anagrams of S in the list\n",
    "* Given a list of numbers, sort it using any sorting algorithm. Please implement the sorting function yourself\n",
    "* Given a binary search tree, print it out in order\n"
   ]
  },
  {
   "cell_type": "markdown",
   "metadata": {},
   "source": [
    "1. Determine if a string is a palindrome\n"
   ]
  },
  {
   "cell_type": "code",
   "execution_count": 21,
   "metadata": {},
   "outputs": [
    {
     "data": {
      "text/plain": [
       "(True, False)"
      ]
     },
     "execution_count": 21,
     "metadata": {},
     "output_type": "execute_result"
    }
   ],
   "source": [
    "def palindrome(word):\n",
    "    word_reversed = word[:: -1]\n",
    "    return word == word_reversed\n",
    "\n",
    "\n",
    "#check\n",
    "palindrome('mum')  ,palindrome('claire')     "
   ]
  },
  {
   "cell_type": "code",
   "execution_count": 20,
   "metadata": {},
   "outputs": [
    {
     "data": {
      "text/plain": [
       "(True, True, False)"
      ]
     },
     "execution_count": 20,
     "metadata": {},
     "output_type": "execute_result"
    }
   ],
   "source": [
    "#better version o(log n)\n",
    "\n",
    "def palind2(word):\n",
    "    n = len(word)\n",
    "    for i in range(0,n//2):\n",
    "        if word[i]!= word[n-1-i]:\n",
    "            return False\n",
    "        else:\n",
    "            return True\n",
    "\n",
    "        \n",
    "        #check again        \n",
    "palind2('mum') ,palind2('racecar'),palind2('claire')       "
   ]
  },
  {
   "cell_type": "markdown",
   "metadata": {},
   "source": [
    "2. Find the non-duplicate character in a string\n"
   ]
  },
  {
   "cell_type": "code",
   "execution_count": 22,
   "metadata": {},
   "outputs": [
    {
     "data": {
      "text/plain": [
       "(['b'], [], ['u', 'y'])"
      ]
     },
     "execution_count": 22,
     "metadata": {},
     "output_type": "execute_result"
    }
   ],
   "source": [
    "def non_dup(mystring):\n",
    "    my_chars = {}\n",
    "    non_dups = []\n",
    "    for char in mystring:\n",
    "        my_chars[char] = my_chars.get(char,0)+ 1\n",
    "    for key,value in my_chars.items():\n",
    "        if value <2:\n",
    "            non_dups.append(key)\n",
    "    return non_dups\n",
    "\n",
    "\n",
    "#check \n",
    "non_dup('banana'),non_dup('momo'),non_dup('mummy')"
   ]
  },
  {
   "cell_type": "markdown",
   "metadata": {},
   "source": [
    "3. Given a string S and a list of strings, find all anagrams of S in the list\n"
   ]
  },
  {
   "cell_type": "code",
   "execution_count": 26,
   "metadata": {},
   "outputs": [
    {
     "data": {
      "text/plain": [
       "([], ['s'], ['s', 's'])"
      ]
     },
     "execution_count": 26,
     "metadata": {},
     "output_type": "execute_result"
    }
   ],
   "source": [
    "def anagrams(given , s):\n",
    "    my_s_list = 0\n",
    "    real_sList = []\n",
    "    for i in given:\n",
    "        if i == s:\n",
    "            my_s_list +=1\n",
    "            real_sList.append(i)\n",
    "    return real_sList\n",
    "        \n",
    "\n",
    "#checking    \n",
    "anagrams(['g','i','v'] , 's'),anagrams(['s','o','n'] , 's'),anagrams(['s','i','s'] ,'s' )    "
   ]
  },
  {
   "cell_type": "markdown",
   "metadata": {},
   "source": [
    "4.  Given a list of numbers, sort it using any sorting algorithm. Please implement the sorting function yourself\n"
   ]
  },
  {
   "cell_type": "code",
   "execution_count": 29,
   "metadata": {},
   "outputs": [
    {
     "data": {
      "text/plain": [
       "[1, 1, 2, 3, 6, 8, 9]"
      ]
     },
     "execution_count": 29,
     "metadata": {},
     "output_type": "execute_result"
    }
   ],
   "source": [
    "def sort(numbers):\n",
    "    #bubble sort\n",
    "    n= len(numbers)\n",
    "    for i in range( n-1,0 ,-1):\n",
    "        for j in range(i):\n",
    "            if numbers[j]> numbers[j+1]:\n",
    "                temp =numbers[j+1]\n",
    "                numbers[j+1]= numbers[j]\n",
    "                numbers[j] =temp\n",
    "    return numbers \n",
    "\n",
    "#testing\n",
    "sort([1,6,2,8,3,9,1])"
   ]
  },
  {
   "cell_type": "markdown",
   "metadata": {},
   "source": [
    "5.  Given a binary search tree, print it out in order\n"
   ]
  },
  {
   "cell_type": "code",
   "execution_count": 30,
   "metadata": {},
   "outputs": [],
   "source": [
    "def bin_tree():\n",
    "    pass"
   ]
  },
  {
   "cell_type": "code",
   "execution_count": null,
   "metadata": {},
   "outputs": [],
   "source": []
  },
  {
   "cell_type": "code",
   "execution_count": null,
   "metadata": {},
   "outputs": [],
   "source": []
  },
  {
   "cell_type": "code",
   "execution_count": null,
   "metadata": {},
   "outputs": [],
   "source": []
  },
  {
   "cell_type": "code",
   "execution_count": null,
   "metadata": {},
   "outputs": [],
   "source": []
  }
 ],
 "metadata": {
  "kernelspec": {
   "display_name": "Python 3",
   "language": "python",
   "name": "python3"
  },
  "language_info": {
   "codemirror_mode": {
    "name": "ipython",
    "version": 3
   },
   "file_extension": ".py",
   "mimetype": "text/x-python",
   "name": "python",
   "nbconvert_exporter": "python",
   "pygments_lexer": "ipython3",
   "version": "3.6.5"
  }
 },
 "nbformat": 4,
 "nbformat_minor": 2
}
