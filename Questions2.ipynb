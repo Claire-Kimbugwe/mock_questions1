{
 "cells": [
  {
   "cell_type": "markdown",
   "metadata": {},
   "source": [
    "Questions\n",
    "1. Write a function that takes in a number and returns a list of n randomn numbers\n",
    "2. Given a list, find the highest number in the list.\n",
    "3. write a function that takes in a list of integers and returns on that appears more often\n",
    "4. write a function that takes in a list and returns true if any two numbers in the list sum up to zero\n",
    "5. function that reverses the sentence \n",
    "6. given two lists join them into one\n",
    "7. function takes in a word and returns true if the word has more vowels than consonants \n"
   ]
  },
  {
   "cell_type": "code",
   "execution_count": null,
   "metadata": {},
   "outputs": [],
   "source": []
  }
 ],
 "metadata": {
  "kernelspec": {
   "display_name": "Python 3",
   "language": "python",
   "name": "python3"
  },
  "language_info": {
   "codemirror_mode": {
    "name": "ipython",
    "version": 3
   },
   "file_extension": ".py",
   "mimetype": "text/x-python",
   "name": "python",
   "nbconvert_exporter": "python",
   "pygments_lexer": "ipython3",
   "version": "3.6.5"
  }
 },
 "nbformat": 4,
 "nbformat_minor": 2
}
