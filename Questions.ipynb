{
 "cells": [
  {
   "cell_type": "markdown",
   "metadata": {},
   "source": [
    "## Questions\n",
    "1. Given a list and an item, find the number of times the item appears in the list."
   ]
  },
  {
   "cell_type": "code",
   "execution_count": 20,
   "metadata": {},
   "outputs": [],
   "source": [
    "def numb_of_times(mylist, item):\n",
    "    my_dict = {}\n",
    "    for i in mylist:\n",
    "        my_dict[i] = my_dict.get(i,0)+1\n",
    "    return my_dict[item] \n",
    "\n",
    "\n",
    "#check solution\n",
    "numb_of_times([1,4,2,4,4,5,4],4)"
   ]
  },
  {
   "cell_type": "markdown",
   "metadata": {},
   "source": [
    "2. Given a list of words, print the largest word."
   ]
  },
  {
   "cell_type": "code",
   "execution_count": 22,
   "metadata": {},
   "outputs": [],
   "source": [
    "words = ['boy', 'girl', 'industry','university']\n",
    "other =['This', 'is','another', 'sentence']\n",
    "def longest(list_of_words):\n",
    "    longest = 'i'\n",
    "    for word in words:\n",
    "        if len(word)> len(longest):\n",
    "            longest = word\n",
    "    return longest\n",
    "\n",
    "#check solution\n",
    "longest(words) "
   ]
  },
  {
   "cell_type": "markdown",
   "metadata": {},
   "source": [
    "3. given a list of characters return the list with all vowels replaced by (*)"
   ]
  },
  {
   "cell_type": "code",
   "execution_count": 34,
   "metadata": {},
   "outputs": [
    {
     "data": {
      "text/plain": [
       "['*', 'd', '*', 'n', 't', 'k', 'n', '*', 'w']"
      ]
     },
     "execution_count": 34,
     "metadata": {},
     "output_type": "execute_result"
    }
   ],
   "source": [
    "def vowel(my_list):\n",
    "    vows = ['a','e','i','o','u']\n",
    "    return ['*' if letter in vows else letter for letter in my_list]\n",
    "\n",
    "#Test it\n",
    "vowel(['i','d','o','n','t','k','n','o','w'])"
   ]
  },
  {
   "cell_type": "markdown",
   "metadata": {},
   "source": [
    "4. Given a word return true if the word is a palindrome"
   ]
  },
  {
   "cell_type": "code",
   "execution_count": 84,
   "metadata": {},
   "outputs": [
    {
     "name": "stdout",
     "output_type": "stream",
     "text": [
      "racecar\n",
      "3\n",
      "-4\n",
      "rac\n",
      "\n"
     ]
    },
    {
     "data": {
      "text/plain": [
       "False"
      ]
     },
     "execution_count": 84,
     "metadata": {},
     "output_type": "execute_result"
    }
   ],
   "source": [
    "def is_palindrome(word):\n",
    "    print(word)\n",
    "    help_number = len(word)//2\n",
    "    helper2 = (help_number + 1)*-1\n",
    "    print(help_number)\n",
    "    print(helper2)\n",
    "    print(word[0:help_number])\n",
    "    print(word[-1:helper2])\n",
    "     \n",
    "    return word[0:help_number]== word[-1:helper2 -1]\n",
    "\n",
    "#test\n",
    "is_palindrome('racecar')"
   ]
  },
  {
   "cell_type": "markdown",
   "metadata": {},
   "source": [
    "5. Given a list of numbers return true if there is an even number in the list"
   ]
  },
  {
   "cell_type": "code",
   "execution_count": 86,
   "metadata": {},
   "outputs": [
    {
     "data": {
      "text/plain": [
       "True"
      ]
     },
     "execution_count": 86,
     "metadata": {},
     "output_type": "execute_result"
    }
   ],
   "source": [
    "def even(list_given):\n",
    "    evens =len([num for num in list_given if num%2 ==0])\n",
    "    return evens > 0\n",
    "even([1,2,3,4,5,6])    "
   ]
  },
  {
   "cell_type": "code",
   "execution_count": 87,
   "metadata": {},
   "outputs": [
    {
     "data": {
      "text/plain": [
       "False"
      ]
     },
     "execution_count": 87,
     "metadata": {},
     "output_type": "execute_result"
    }
   ],
   "source": [
    "even([1,5,3,9,5,7])    "
   ]
  },
  {
   "cell_type": "code",
   "execution_count": 75,
   "metadata": {},
   "outputs": [
    {
     "data": {
      "text/plain": [
       "('rac', '')"
      ]
     },
     "execution_count": 75,
     "metadata": {},
     "output_type": "execute_result"
    }
   ],
   "source": [
    "c= 'racecar'\n",
    "b=(len(c)//2)\n",
    "e = (b+1)*-1\n",
    "c[0:b], c[-1:e]"
   ]
  },
  {
   "cell_type": "code",
   "execution_count": 81,
   "metadata": {},
   "outputs": [
    {
     "data": {
      "text/plain": [
       "''"
      ]
     },
     "execution_count": 81,
     "metadata": {},
     "output_type": "execute_result"
    }
   ],
   "source": [
    "c[-1 :-5-1]"
   ]
  },
  {
   "cell_type": "code",
   "execution_count": 72,
   "metadata": {},
   "outputs": [
    {
     "data": {
      "text/plain": [
       "-5"
      ]
     },
     "execution_count": 72,
     "metadata": {},
     "output_type": "execute_result"
    }
   ],
   "source": [
    "c= 'muwanguzi'\n",
    "b=(len(c)//2)\n",
    "e = (b+1)*-1\n",
    "e"
   ]
  },
  {
   "cell_type": "code",
   "execution_count": null,
   "metadata": {},
   "outputs": [],
   "source": []
  }
 ],
 "metadata": {
  "kernelspec": {
   "display_name": "Python 3",
   "language": "python",
   "name": "python3"
  },
  "language_info": {
   "codemirror_mode": {
    "name": "ipython",
    "version": 3
   },
   "file_extension": ".py",
   "mimetype": "text/x-python",
   "name": "python",
   "nbconvert_exporter": "python",
   "pygments_lexer": "ipython3",
   "version": "3.6.5"
  }
 },
 "nbformat": 4,
 "nbformat_minor": 2
}
