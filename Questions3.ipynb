{
 "cells": [
  {
   "cell_type": "markdown",
   "metadata": {},
   "source": [
    "1. ### python uses snakecase for variable names and java script uses camelCase given a variable name in python return it in camelCase\n",
    "input => string(snake_case variable name)<br>\n",
    "output => string(camelCase)\n",
    "##### Edge Cases:\n",
    "Empty string => ' '\n",
    "##### Test Cases \n",
    "my_list => myList <br>\n",
    "every_other_girl => everyOtherGirl<br>\n",
    "Empty string => ' '\n",
    "main=> main\n",
    "Main => main"
   ]
  },
  {
   "cell_type": "code",
   "execution_count": 19,
   "metadata": {},
   "outputs": [
    {
     "data": {
      "text/plain": [
       "('everyOtherGirlToGether', 'every', ' ', 'thenThis')"
      ]
     },
     "execution_count": 19,
     "metadata": {},
     "output_type": "execute_result"
    }
   ],
   "source": [
    "#Function\n",
    "def camelCase(snake_case):\n",
    "    listed = snake_case.split('_')\n",
    "    listed =[i.lower() for i in listed]\n",
    "    for i in range(1,len(listed)):\n",
    "        listed[i] = listed[i].capitalize() \n",
    "    return ''.join(listed)\n",
    "\n",
    "#Tests\n",
    "camelCase('every_other_girl_to_gether'),camelCase('every'),camelCase(' '),camelCase('Then_this')"
   ]
  },
  {
   "cell_type": "code",
   "execution_count": 18,
   "metadata": {},
   "outputs": [
    {
     "data": {
      "text/plain": [
       "('everyOtherGirlToGether', 'every', ' ', 'thenThis')"
      ]
     },
     "execution_count": 18,
     "metadata": {},
     "output_type": "execute_result"
    }
   ],
   "source": []
  },
  {
   "cell_type": "code",
   "execution_count": null,
   "metadata": {},
   "outputs": [],
   "source": []
  }
 ],
 "metadata": {
  "kernelspec": {
   "display_name": "Python 3",
   "language": "python",
   "name": "python3"
  },
  "language_info": {
   "codemirror_mode": {
    "name": "ipython",
    "version": 3
   },
   "file_extension": ".py",
   "mimetype": "text/x-python",
   "name": "python",
   "nbconvert_exporter": "python",
   "pygments_lexer": "ipython3",
   "version": "3.6.5"
  }
 },
 "nbformat": 4,
 "nbformat_minor": 2
}
