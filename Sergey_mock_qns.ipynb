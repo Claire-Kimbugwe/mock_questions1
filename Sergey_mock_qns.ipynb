{
 "cells": [
  {
   "cell_type": "markdown",
   "metadata": {},
   "source": [
    "1. ### Given a string with [] ,find if the string is balanced.\n",
    "\n",
    "Input  => a string <br>\n",
    "output => boolean<br>\n",
    "#### Test cases:\n",
    "'[[ab]]' = True <br>\n",
    "']abc[' = False <br>\n",
    "'[abc[' = False <br>\n",
    "'abc' = False <br>\n",
    "\n"
   ]
  },
  {
   "cell_type": "code",
   "execution_count": 54,
   "metadata": {},
   "outputs": [],
   "source": [
    "def balance(string):\n",
    "    brackets_counter = 0\n",
    "    non_brackets=0\n",
    "    for i in string:\n",
    "        if i == ']' and brackets_counter == 0:\n",
    "            return False\n",
    "        if i == ']' and brackets_counter != 0:\n",
    "            brackets_counter -=1\n",
    "        if i == '[':\n",
    "            brackets_counter +=1\n",
    "        if i  not in('[',']'):\n",
    "            non_brackets +=1\n",
    "    return brackets_counter==0 and len(string)!= non_brackets\n",
    "    "
   ]
  },
  {
   "cell_type": "code",
   "execution_count": 55,
   "metadata": {},
   "outputs": [
    {
     "data": {
      "text/plain": [
       "True"
      ]
     },
     "execution_count": 55,
     "metadata": {},
     "output_type": "execute_result"
    }
   ],
   "source": [
    "balance('[[ab]]')"
   ]
  },
  {
   "cell_type": "code",
   "execution_count": 56,
   "metadata": {},
   "outputs": [
    {
     "data": {
      "text/plain": [
       "False"
      ]
     },
     "execution_count": 56,
     "metadata": {},
     "output_type": "execute_result"
    }
   ],
   "source": [
    "balance('abc')"
   ]
  },
  {
   "cell_type": "code",
   "execution_count": 57,
   "metadata": {},
   "outputs": [
    {
     "data": {
      "text/plain": [
       "False"
      ]
     },
     "execution_count": 57,
     "metadata": {},
     "output_type": "execute_result"
    }
   ],
   "source": [
    "balance(']abc')"
   ]
  },
  {
   "cell_type": "markdown",
   "metadata": {},
   "source": [
    "2. ### write a function to tell if a string is a pangram\n",
    "\n",
    "Input  => a string <br>\n",
    "output => boolean<br>\n",
    "#### Test cases:\n",
    "'Waltz, bad nymph, for quick jigs vex' => True <br>\n",
    "'claire' => false"
   ]
  },
  {
   "cell_type": "code",
   "execution_count": 58,
   "metadata": {},
   "outputs": [],
   "source": [
    "alphabet = list(map(chr, range(97, 123)))#small letters, big letters will be 65-90"
   ]
  },
  {
   "cell_type": "code",
   "execution_count": 59,
   "metadata": {},
   "outputs": [
    {
     "data": {
      "text/plain": [
       "['p', 'q', 'r', 's', 't', 'u', 'v', 'w', 'x', 'y', 'z']"
      ]
     },
     "execution_count": 59,
     "metadata": {},
     "output_type": "execute_result"
    }
   ],
   "source": [
    "alphabet[15:]"
   ]
  },
  {
   "cell_type": "code",
   "execution_count": 60,
   "metadata": {},
   "outputs": [
    {
     "data": {
      "text/plain": [
       "(False, True)"
      ]
     },
     "execution_count": 60,
     "metadata": {},
     "output_type": "execute_result"
    }
   ],
   "source": [
    "def pangram(string):\n",
    "    string = string.upper() #0(n)\n",
    "    alphs = set(map(chr,range(65,90))) #0(n)\n",
    "    for i in alphs: #O(n)\n",
    "        if i not in string: #O(n)\n",
    "            return False\n",
    "    return True\n",
    "    \n",
    "pangram('string'), pangram('Waltz, bad nymph, for quick jigs vex')"
   ]
  },
  {
   "cell_type": "markdown",
   "metadata": {},
   "source": [
    "3. ### given a list return the longest word in the list\n",
    "\n",
    "Input  => a list <br>\n",
    "output => longest word <br>\n",
    "#### Test cases:\n",
    "['Waltz','' ,'bad' ,'nymph', 'dequick']=> dequick  <br>\n",
    "['claire', 'care'] => false"
   ]
  },
  {
   "cell_type": "code",
   "execution_count": 61,
   "metadata": {},
   "outputs": [
    {
     "data": {
      "text/plain": [
       "('dequick', 'claire', '')"
      ]
     },
     "execution_count": 61,
     "metadata": {},
     "output_type": "execute_result"
    }
   ],
   "source": [
    "def longest(word_list):\n",
    "    longest=''\n",
    "    for word in word_list:\n",
    "        if len(word) > len(longest):\n",
    "            longest = word\n",
    "    return longest\n",
    "\n",
    "#Test\n",
    "        \n",
    "longest(['Waltz','' ,'bad' ,'nymph', 'dequick']),longest(['claire', 'care']), longest([])"
   ]
  },
  {
   "cell_type": "markdown",
   "metadata": {},
   "source": [
    "4. ### given a string replace 's' with 5, 't'=7,'i'=1,e=3 <br>\n",
    "\n",
    "Input => a string<br>\n",
    "output => string replaced  \n",
    "\n",
    "Test cases:\n",
    "\n"
   ]
  },
  {
   "cell_type": "code",
   "execution_count": 62,
   "metadata": {},
   "outputs": [
    {
     "data": {
      "text/plain": [
       "'d3quick5'"
      ]
     },
     "execution_count": 62,
     "metadata": {},
     "output_type": "execute_result"
    }
   ],
   "source": [
    "def replace(string):\n",
    "    string = list(string.lower())\n",
    "    new = ''\n",
    "    for i in string:\n",
    "        if i == 's':\n",
    "            new += '5'\n",
    "        elif i == 't':\n",
    "            new +='7'\n",
    "        elif i=='e':\n",
    "            new +='3'\n",
    "        else:\n",
    "            new +=i\n",
    "    return new\n",
    "\n",
    "replace('dequicks')"
   ]
  },
  {
   "cell_type": "markdown",
   "metadata": {},
   "source": [
    "5. Given a string remove duplicates without using a set"
   ]
  },
  {
   "cell_type": "code",
   "execution_count": 70,
   "metadata": {},
   "outputs": [
    {
     "data": {
      "text/plain": [
       "('ban', 'noise', 'n', '')"
      ]
     },
     "execution_count": 70,
     "metadata": {},
     "output_type": "execute_result"
    }
   ],
   "source": [
    "def nondup(string):\n",
    "    mydict={}\n",
    "    for i in string:\n",
    "        mydict[i]= mydict.get(i,0)+ 1\n",
    "    return ''.join(mydict.keys())\n",
    "\n",
    "\n",
    "#Test\n",
    "nondup('banaba'),nondup('nonoise'),nondup('n'),nondup('')"
   ]
  },
  {
   "cell_type": "markdown",
   "metadata": {},
   "source": [
    "6. given a list of numbers return the smallest and largest integers in the list, use an appropriate data structure"
   ]
  },
  {
   "cell_type": "code",
   "execution_count": 75,
   "metadata": {},
   "outputs": [],
   "source": [
    "def max_min(numbers):\n",
    "    smallest =numbers[0]\n",
    "    largest =0\n",
    "    max_min_dict ={}\n",
    "    for n in numbers:\n",
    "        if n > largest:\n",
    "            largest = n\n",
    "        if n<smallest:\n",
    "            smallest = n\n",
    "    max_min_dict['Max']= largest\n",
    "    max_min_dict['Min']= smallest\n",
    "    return max_min_dict"
   ]
  },
  {
   "cell_type": "code",
   "execution_count": 76,
   "metadata": {},
   "outputs": [
    {
     "data": {
      "text/plain": [
       "{'Max': 45, 'Min': 1}"
      ]
     },
     "execution_count": 76,
     "metadata": {},
     "output_type": "execute_result"
    }
   ],
   "source": [
    "max_min([10,45,1,8,22])"
   ]
  },
  {
   "cell_type": "markdown",
   "metadata": {},
   "source": [
    "7. determine if a word contains only unique characters"
   ]
  },
  {
   "cell_type": "code",
   "execution_count": 80,
   "metadata": {},
   "outputs": [
    {
     "data": {
      "text/plain": [
       "(True, False)"
      ]
     },
     "execution_count": 80,
     "metadata": {},
     "output_type": "execute_result"
    }
   ],
   "source": [
    "def unique(word):\n",
    "    words = {}\n",
    "    for letter in word:\n",
    "        words[letter]= words.get(letter, 0)+1\n",
    "    for key,value in words.items():\n",
    "        if value > 1:\n",
    "            return False\n",
    "    return True\n",
    "\n",
    "#test\n",
    "unique('word'),unique('bababa')"
   ]
  },
  {
   "cell_type": "markdown",
   "metadata": {},
   "source": [
    "8. Given a string replace all vowels with a question mark."
   ]
  },
  {
   "cell_type": "code",
   "execution_count": 94,
   "metadata": {},
   "outputs": [
    {
     "data": {
      "text/plain": [
       "('str?ng', 'babana', 'e?a?e')"
      ]
     },
     "execution_count": 94,
     "metadata": {},
     "output_type": "execute_result"
    }
   ],
   "source": [
    "def replaceV(string):\n",
    "    vows = {'a','e','i','o','u'}\n",
    "    string= list(string.lower())\n",
    "    new = [i.replace('i','?') if i in vows else i for i in string]\n",
    "    return  ''.join(new)\n",
    "\n",
    "#Test\n",
    "replaceV('string'),replaceV('babana'),replaceV('eiaie') #check this again"
   ]
  },
  {
   "cell_type": "code",
   "execution_count": null,
   "metadata": {},
   "outputs": [],
   "source": []
  },
  {
   "cell_type": "code",
   "execution_count": null,
   "metadata": {},
   "outputs": [],
   "source": []
  }
 ],
 "metadata": {
  "kernelspec": {
   "display_name": "Python 3",
   "language": "python",
   "name": "python3"
  },
  "language_info": {
   "codemirror_mode": {
    "name": "ipython",
    "version": 3
   },
   "file_extension": ".py",
   "mimetype": "text/x-python",
   "name": "python",
   "nbconvert_exporter": "python",
   "pygments_lexer": "ipython3",
   "version": "3.6.5"
  }
 },
 "nbformat": 4,
 "nbformat_minor": 2
}
