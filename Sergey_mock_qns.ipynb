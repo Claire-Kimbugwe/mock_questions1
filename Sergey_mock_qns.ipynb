{
 "cells": [
  {
   "cell_type": "markdown",
   "metadata": {},
   "source": [
    "1. ### Given a string with [] ,find if the string is balanced.\n",
    "\n",
    "Input  => a string <br>\n",
    "output => boolean<br>\n",
    "#### Test cases:\n",
    "'[[ab]]' = True <br>\n",
    "']abc[' = False <br>\n",
    "'[abc[' = False <br>\n",
    "'abc' = False <br>\n",
    "\n"
   ]
  },
  {
   "cell_type": "code",
   "execution_count": 2,
   "metadata": {},
   "outputs": [],
   "source": [
    "def balance(string):\n",
    "    brackets_counter = 0\n",
    "    non_brackets=0\n",
    "    for i in string:\n",
    "        if i == ']' and brackets_counter == 0:\n",
    "            return False\n",
    "        if i == ']' and brackets_counter != 0:\n",
    "            brackets_counter -=1\n",
    "        if i == '[':\n",
    "            brackets_counter +=1\n",
    "        if i  not in('[',']'):\n",
    "            non_brackets +=1\n",
    "    return brackets_counter==0 and len(string)!= non_brackets\n",
    "    "
   ]
  },
  {
   "cell_type": "code",
   "execution_count": 3,
   "metadata": {},
   "outputs": [
    {
     "data": {
      "text/plain": [
       "True"
      ]
     },
     "execution_count": 3,
     "metadata": {},
     "output_type": "execute_result"
    }
   ],
   "source": [
    "balance('[[ab]]')"
   ]
  },
  {
   "cell_type": "code",
   "execution_count": 4,
   "metadata": {},
   "outputs": [
    {
     "data": {
      "text/plain": [
       "False"
      ]
     },
     "execution_count": 4,
     "metadata": {},
     "output_type": "execute_result"
    }
   ],
   "source": [
    "balance('abc')"
   ]
  },
  {
   "cell_type": "code",
   "execution_count": 5,
   "metadata": {},
   "outputs": [
    {
     "data": {
      "text/plain": [
       "False"
      ]
     },
     "execution_count": 5,
     "metadata": {},
     "output_type": "execute_result"
    }
   ],
   "source": [
    "balance(']abc')"
   ]
  },
  {
   "cell_type": "code",
   "execution_count": null,
   "metadata": {},
   "outputs": [],
   "source": []
  }
 ],
 "metadata": {
  "kernelspec": {
   "display_name": "Python 3",
   "language": "python",
   "name": "python3"
  },
  "language_info": {
   "codemirror_mode": {
    "name": "ipython",
    "version": 3
   },
   "file_extension": ".py",
   "mimetype": "text/x-python",
   "name": "python",
   "nbconvert_exporter": "python",
   "pygments_lexer": "ipython3",
   "version": "3.6.5"
  }
 },
 "nbformat": 4,
 "nbformat_minor": 2
}
